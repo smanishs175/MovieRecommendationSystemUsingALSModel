{
  "nbformat": 4,
  "nbformat_minor": 0,
  "metadata": {
    "colab": {
      "name": "MovieRecommendationUsingBDA.ipynb",
      "provenance": [],
      "collapsed_sections": [],
      "include_colab_link": true
    },
    "kernelspec": {
      "display_name": "Python 3",
      "name": "python3"
    }
  },
  "cells": [
    {
      "cell_type": "markdown",
      "metadata": {
        "id": "view-in-github",
        "colab_type": "text"
      },
      "source": [
        "<a href=\"https://colab.research.google.com/github/smanishs175/MovieRecommendationSystemUsingALSModel/blob/main/MovieRecommendationUsingBDA.ipynb\" target=\"_parent\"><img src=\"https://colab.research.google.com/assets/colab-badge.svg\" alt=\"Open In Colab\"/></a>"
      ]
    },
    {
      "cell_type": "code",
      "metadata": {
        "id": "GVIitfSiVg0F",
        "colab": {
          "base_uri": "https://localhost:8080/"
        },
        "outputId": "3fe2f71c-f1da-4dd5-b04c-635969d70642"
      },
      "source": [
        "from google.colab import drive\n",
        "drive.mount('/content/drive')"
      ],
      "execution_count": null,
      "outputs": [
        {
          "output_type": "stream",
          "text": [
            "Mounted at /content/drive\n"
          ],
          "name": "stdout"
        }
      ]
    },
    {
      "cell_type": "code",
      "metadata": {
        "id": "544sQVO58Y6U"
      },
      "source": [
        "!apt-get install openjdk-8-jdk-headless -qq > /dev/null\n",
        "!wget -q https://www-us.apache.org/dist/spark/spark-3.0.1/spark-3.0.1-bin-hadoop2.7.tgz\n",
        "!tar xf spark-3.0.1-bin-hadoop2.7.tgz\n",
        "!pip install -q findspark"
      ],
      "execution_count": null,
      "outputs": []
    },
    {
      "cell_type": "code",
      "metadata": {
        "id": "p1Vy6SZjYqYF"
      },
      "source": [
        "import os\n",
        "os.environ[\"JAVA_HOME\"] = \"/usr/lib/jvm/java-8-openjdk-amd64\"\n",
        "os.environ[\"SPARK_HOME\"] = \"/content/spark-3.0.1-bin-hadoop2.7\""
      ],
      "execution_count": null,
      "outputs": []
    },
    {
      "cell_type": "code",
      "metadata": {
        "id": "9_Uz1NL4gHFx"
      },
      "source": [
        "import findspark\n",
        "findspark.init()\n",
        "from pyspark.sql import SparkSession\n",
        "spark = SparkSession.builder.master(\"local[*]\").getOrCreate()"
      ],
      "execution_count": null,
      "outputs": []
    },
    {
      "cell_type": "code",
      "metadata": {
        "id": "x0az8hOmZAOl"
      },
      "source": [
        "\n",
        "from pyspark.sql import SparkSession\n",
        "from pyspark.ml.recommendation import ALS\n",
        "from pyspark.sql import Row\n",
        "from pyspark.sql.functions import lit\n",
        "\n",
        "\n",
        "def loadMovieNames():\n",
        "    movieNames = {}\n",
        "    with open(\"/content/u.item.txt\") as f:\n",
        "        for line in f:\n",
        "            fields = line.split('|')\n",
        "            movieNames[int(fields[0])] = fields[1]\n",
        "    return movieNames"
      ],
      "execution_count": null,
      "outputs": []
    },
    {
      "cell_type": "code",
      "metadata": {
        "colab": {
          "base_uri": "https://localhost:8080/"
        },
        "id": "7NBDX2FDZSip",
        "outputId": "a18ddfce-0861-4954-8297-4ac6ab2e4f35"
      },
      "source": [
        "\n",
        "def parseInput(line):\n",
        "    fields = line.value.split()\n",
        "   \n",
        "    return Row(userID = int(fields[0]), movieID = int(fields[1]), rating = float(fields[2]))\n",
        "\n",
        "\n",
        "if __name__ == \"__main__\":\n",
        "    \n",
        "    spark = SparkSession.builder.appName(\"MovieRecs\").getOrCreate()\n",
        "\n",
        "   \n",
        "    movieNames = loadMovieNames()\n",
        "\n",
        "   \n",
        "    lines = spark.read.text(\"/content/u.data.txt\").rdd\n",
        "\n",
        "    \n",
        "    ratingsRDD = lines.map(parseInput)\n",
        "\n",
        "    \n",
        "    ratings = spark.createDataFrame(ratingsRDD).cache()\n",
        "\n",
        "   \n",
        "    als = ALS(maxIter=5, regParam=0.01, userCol=\"userID\", itemCol=\"movieID\", ratingCol=\"rating\")\n",
        "    \n",
        "    model = als.fit(ratings)\n",
        "   \n",
        "    print(\"\\nRatings for user ID 0:\")\n",
        "   \n",
        "    userRatings = ratings.filter(\"userID = 0\")\n",
        "   \n",
        "    for rating in userRatings.collect():\n",
        "        print(movieNames[rating['movieID']], rating['rating'])\n"
      ],
      "execution_count": null,
      "outputs": [
        {
          "output_type": "stream",
          "text": [
            "\n",
            "Ratings for user ID 0:\n",
            "Star Wars (1977) 5.0\n",
            "Empire Strikes Back, The (1980) 5.0\n",
            "Gone with the Wind (1939) 1.0\n"
          ],
          "name": "stdout"
        }
      ]
    },
    {
      "cell_type": "code",
      "metadata": {
        "colab": {
          "base_uri": "https://localhost:8080/"
        },
        "id": "3bU8ZE03m8Fo",
        "outputId": "98bb4e57-59a5-4f56-b71b-10b4b7dd1127"
      },
      "source": [
        "   \n",
        "print(\"\\nTop 20 recommendations:\")\n",
        "   \n",
        "   \n",
        "ratingCounts = ratings.groupBy(\"movieID\").count().filter(\"count > 100\")\n",
        "    \n",
        "   \n",
        "popularMovies = ratingCounts.select(\"movieID\").withColumn('userID', lit(0))\n",
        "\n",
        "    \n",
        "recommendations = model.transform(popularMovies)\n",
        "\n",
        "    \n",
        "topRecommendations = recommendations.sort(recommendations.prediction.desc()).take(20)\n",
        "\n",
        "for recommendation in topRecommendations:\n",
        "    print (movieNames[recommendation['movieID']], recommendation['prediction'])\n",
        "\n",
        "spark.stop()\n",
        "\n"
      ],
      "execution_count": null,
      "outputs": [
        {
          "output_type": "stream",
          "text": [
            "\n",
            "Top 20 recommendations:\n",
            "Hudsucker Proxy, The (1994) 6.200141429901123\n",
            "Jackie Chan's First Strike (1996) 6.188178062438965\n",
            "Princess Bride, The (1987) 6.108372211456299\n",
            "Army of Darkness (1993) 5.962574481964111\n",
            "Beavis and Butt-head Do America (1996) 5.776404857635498\n",
            "Die Hard: With a Vengeance (1995) 5.46513557434082\n",
            "Swingers (1996) 5.37847900390625\n",
            "Highlander (1986) 5.347123622894287\n",
            "Wrong Trousers, The (1993) 5.3443074226379395\n",
            "Blues Brothers, The (1980) 5.33856201171875\n",
            "Rumble in the Bronx (1995) 5.317055702209473\n",
            "Die Hard (1988) 5.171832084655762\n",
            "Great Escape, The (1963) 5.168797969818115\n",
            "Alien (1979) 5.113796234130859\n",
            "Terminator, The (1984) 5.036183834075928\n",
            "Chasing Amy (1997) 5.011901378631592\n",
            "Ace Ventura: Pet Detective (1994) 5.002049922943115\n",
            "Empire Strikes Back, The (1980) 4.995321750640869\n",
            "Fish Called Wanda, A (1988) 4.9705986976623535\n",
            "Raiders of the Lost Ark (1981) 4.967935562133789\n"
          ],
          "name": "stdout"
        }
      ]
    }
  ]
}